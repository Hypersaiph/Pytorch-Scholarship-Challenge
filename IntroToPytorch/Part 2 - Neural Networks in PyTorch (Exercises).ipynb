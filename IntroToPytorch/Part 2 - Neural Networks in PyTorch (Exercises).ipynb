{
 "cells": [
  {
   "cell_type": "markdown",
   "metadata": {},
   "source": [
    "# Neural networks with PyTorch\n",
    "\n",
    "Deep learning networks tend to be massive with dozens or hundreds of layers, that's where the term \"deep\" comes from. You can build one of these deep networks using only weight matrices as we did in the previous notebook, but in general it's very cumbersome and difficult to implement. PyTorch has a nice module `nn` that provides a nice way to efficiently build large neural networks."
   ]
  },
  {
   "cell_type": "code",
   "execution_count": 6,
   "metadata": {},
   "outputs": [],
   "source": [
    "# Import necessary packages\n",
    "\n",
    "%matplotlib inline\n",
    "%config InlineBackend.figure_format = 'retina'\n",
    "\n",
    "import numpy as np\n",
    "import torch\n",
    "\n",
    "import helper\n",
    "\n",
    "import matplotlib.pyplot as plt"
   ]
  },
  {
   "cell_type": "markdown",
   "metadata": {},
   "source": [
    "\n",
    "Now we're going to build a larger network that can solve a (formerly) difficult problem, identifying text in an image. Here we'll use the MNIST dataset which consists of greyscale handwritten digits. Each image is 28x28 pixels, you can see a sample below\n",
    "\n",
    "<img src='assets/mnist.png'>\n",
    "\n",
    "Our goal is to build a neural network that can take one of these images and predict the digit in the image.\n",
    "\n",
    "First up, we need to get our dataset. This is provided through the `torchvision` package. The code below will download the MNIST dataset, then create training and test datasets for us. Don't worry too much about the details here, you'll learn more about this later."
   ]
  },
  {
   "cell_type": "code",
   "execution_count": 7,
   "metadata": {},
   "outputs": [],
   "source": [
    "### Run this cell\n",
    "\n",
    "from torchvision import datasets, transforms\n",
    "\n",
    "# Define a transform to normalize the data\n",
    "transform = transforms.Compose([transforms.ToTensor(),\n",
    "                              transforms.Normalize((0.5,), (0.5,)),\n",
    "                              ])\n",
    "\n",
    "# Download and load the training data\n",
    "trainset = datasets.MNIST('~/.pytorch/MNIST_data/', download=True, train=True, transform=transform)\n",
    "trainloader = torch.utils.data.DataLoader(trainset, batch_size=64, shuffle=True)"
   ]
  },
  {
   "cell_type": "markdown",
   "metadata": {},
   "source": [
    "We have the training data loaded into `trainloader` and we make that an iterator with `iter(trainloader)`. Later, we'll use this to loop through the dataset for training, like\n",
    "\n",
    "```python\n",
    "for image, label in trainloader:\n",
    "    ## do things with images and labels\n",
    "```\n",
    "\n",
    "You'll notice I created the `trainloader` with a batch size of 64, and `shuffle=True`. The batch size is the number of images we get in one iteration from the data loader and pass through our network, often called a *batch*. And `shuffle=True` tells it to shuffle the dataset every time we start going through the data loader again. But here I'm just grabbing the first batch so we can check out the data. We can see below that `images` is just a tensor with size `(64, 1, 28, 28)`. So, 64 images per batch, 1 color channel, and 28x28 images."
   ]
  },
  {
   "cell_type": "code",
   "execution_count": 8,
   "metadata": {},
   "outputs": [
    {
     "name": "stdout",
     "output_type": "stream",
     "text": [
      "<class 'torch.Tensor'>\n",
      "torch.Size([64, 1, 28, 28])\n",
      "torch.Size([64])\n"
     ]
    }
   ],
   "source": [
    "dataiter = iter(trainloader)\n",
    "images, labels = dataiter.next()\n",
    "print(type(images))\n",
    "print(images.shape)\n",
    "print(labels.shape)"
   ]
  },
  {
   "cell_type": "markdown",
   "metadata": {},
   "source": [
    "This is what one of the images looks like. "
   ]
  },
  {
   "cell_type": "code",
   "execution_count": 12,
   "metadata": {},
   "outputs": [
    {
     "data": {
      "image/png": "[encoded data removed]",
      "text/plain": [
       "<Figure size 432x288 with 1 Axes>"
      ]
     },
     "metadata": {
      "image/png": {
       "height": 250,
       "width": 253
      },
      "needs_background": "light"
     },
     "output_type": "display_data"
    }
   ],
   "source": [
    "plt.imshow(images[1].numpy().squeeze(), cmap='Greys_r');"
   ]
  },
  {
   "cell_type": "markdown",
   "metadata": {},
   "source": [
    "First, let's try to build a simple network for this dataset using weight matrices and matrix multiplications. Then, we'll see how to do it using PyTorch's `nn` module which provides a much more convenient and powerful method for defining network architectures.\n",
    "\n",
    "The networks you've seen so far are called *fully-connected* or *dense* networks. Each unit in one layer is connected to each unit in the next layer. In fully-connected networks, the input to each layer must be a one-dimensional vector (which can be stacked into a 2D tensor as a batch of multiple examples). However, our images are 28x28 2D tensors, so we need to convert them into 1D vectors. Thinking about sizes, we need to convert the batch of images with shape `(64, 1, 28, 28)` to a have a shape of `(64, 784)`, 784 is 28 times 28. This is typically called *flattening*, we flattened the 2D images into 1D vectors.\n",
    "\n",
    "Previously you built a network with one output unit. Here we need 10 output units, one for each digit. We want our network to predict the digit shown in an image, so what we'll do is calculate probabilities that the image is of any one digit or class. This ends up being a discrete probability distribution over the classes (digits) that tells us the most likely class for the image. That means we need 10 output units for the 10 classes (digits). We'll see how to convert the network output into a probability distribution next.\n",
    "\n",
    "> **Exercise:** Flatten the batch of images `images`. Then build a multi-layer network with 784 input units, 256 hidden units, and 10 output units using random tensors for the weights and biases. For now, use a sigmoid activation for the hidden layer. Leave the output layer without an activation, we'll add one that gives us a probability distribution next."
   ]
  },
  {
   "cell_type": "code",
   "execution_count": 23,
   "metadata": {},
   "outputs": [
    {
     "name": "stdout",
     "output_type": "stream",
     "text": [
      "tensor([[ 13.4132,  -6.2254,  16.1287,  23.2199,  -3.2882,   2.4012, -21.9917,\n",
      "          -7.6759,   3.0498,  -2.4254],\n",
      "        [ 16.9541,  10.0360,  15.1612,  19.7332,   3.9307,   2.0837, -22.7690,\n",
      "          -1.0451,   7.1766,   5.3148],\n",
      "        [ 17.2401,  13.2634,  15.0412,  11.7275,  -2.6125,   7.3758, -16.4145,\n",
      "          -8.5960,   0.1149,   5.2854],\n",
      "        [ 20.5812,  15.5400,  20.6220,   9.8551,  -0.8332,  -2.7252, -18.0647,\n",
      "          -1.2355,  11.5640,   2.2399],\n",
      "        [ 22.5056, -14.2154,  27.6324,  15.5669,  -9.8368,   5.7340, -19.0101,\n",
      "          -7.0120,   6.4461,   9.5408],\n",
      "        [ 12.1102,   9.4747,  21.7258,  16.1020,   7.8834,   8.8330, -18.6389,\n",
      "          -8.3300,   2.1220,  -1.9915],\n",
      "        [ 17.7102,  15.4831,  21.9316,  14.5440,   5.4126,   6.4005, -16.9159,\n",
      "          -3.7486,   4.1944,  -2.6886],\n",
      "        [ 17.3475,   3.1702,  21.5830,  23.3426, -13.1380,   8.5761, -30.7920,\n",
      "         -12.0194,   1.1759,  -8.6962],\n",
      "        [ 23.3110,   2.5507,   9.7969,  16.5578,   0.6416,   9.6385, -15.5185,\n",
      "         -13.0136,  15.3417,  -5.4397],\n",
      "        [ 15.6360,  -2.6421,  10.1370,  19.7988,   4.6077,  13.9765, -13.5487,\n",
      "          -5.2228,   9.4332,   7.5754],\n",
      "        [ 13.0821,  -9.5255,  11.7782,  22.1161,  -0.1858,  10.2439, -17.0820,\n",
      "         -10.4429,  17.7287,   3.5972],\n",
      "        [ 16.5008,  -7.5120,  11.5749,  23.1194,   1.3416,  16.4844, -13.9549,\n",
      "         -11.3517,  19.0637,  -1.2374],\n",
      "        [ 25.9260,  -8.6124,  14.4434,  26.5775,  -0.1508,   5.3500, -18.2028,\n",
      "          -9.4835,  19.6374,   1.5824],\n",
      "        [ 13.6772,   6.3734,  29.0710,  10.4497,   4.2789,  11.2472, -14.7595,\n",
      "          -4.7907,  10.0490,  -4.1569],\n",
      "        [ 24.4617,  -1.0635,  22.6629,  23.1957,  -1.6643,  13.5210, -18.5185,\n",
      "          -3.9149,  15.1316,  -8.6555],\n",
      "        [ 16.3843,  13.2490,  12.1889,  16.4781,   6.7442,  -4.7275, -18.6856,\n",
      "          -4.9129,   9.4577,   3.5699],\n",
      "        [ 15.4634,   5.5074,  19.2823,  11.1038,   1.5583,   5.0689, -15.9555,\n",
      "          -7.1669,  20.3368,  -3.5602],\n",
      "        [ 20.7925,  -7.7279,  17.4676,  19.9448,   3.5092,  10.9734, -21.3978,\n",
      "           4.5331,  16.4644,   1.2588],\n",
      "        [ 15.9457,   7.8113,  12.3755,  17.1634,   2.9678,  -3.0951, -22.2963,\n",
      "         -11.5601,   5.6090,   0.8376],\n",
      "        [ 18.2140,  -5.0344,  16.1138,  19.9431,  -5.8376,  -3.0424, -15.0290,\n",
      "         -15.6092,  11.7069,  -0.4409],\n",
      "        [ 21.5428,   4.1012,  12.7067,  10.1507,  -8.8800,   4.6086, -15.6364,\n",
      "          -9.7000,  15.4302,  -0.2297],\n",
      "        [ 26.3547,  -7.3126,  19.2230,  19.4003,  -3.3118,   9.9559, -15.5436,\n",
      "          -7.4482,  15.4319,   2.0335],\n",
      "        [ 22.8291,  -1.7612,  16.4545,  15.1940,  -2.5781,   3.0019, -16.6360,\n",
      "         -14.3401,  15.6867,  -3.1634],\n",
      "        [ 19.0363,  -1.3592,  14.4962,  14.4229, -10.1982,   0.2660, -12.9023,\n",
      "          -7.8398,   8.2799,  -0.6029],\n",
      "        [ 17.6229,  -2.5156,  16.3743,  14.5916, -12.3093,   0.5645, -18.6355,\n",
      "          -6.4056,  17.3719,   5.0652],\n",
      "        [ 28.8156,  -1.2381,   9.2581,  13.7919,  -6.9374,  12.7238, -22.3758,\n",
      "          -0.9535,  15.6456,  -1.5877],\n",
      "        [ 18.6206,   3.8227,  16.7522,  26.6505,  -6.0348,   8.2469, -22.3927,\n",
      "          -8.2466,  10.2939,  -3.6327],\n",
      "        [ 23.5043,  -7.2400,  16.6720,  19.1295,  -3.3428,   8.0488, -18.9832,\n",
      "          -3.2949,  13.3842,  -0.8188],\n",
      "        [ 24.1641,   5.1421,  18.2871,  12.4329,   8.9811,   9.6936, -14.9825,\n",
      "         -17.6260,   6.1729,  -8.4531],\n",
      "        [ 16.1351,   1.0752,  21.1455,  23.2463,   0.4415,   5.8826, -15.5576,\n",
      "         -11.5877,  18.6934,  -9.8018],\n",
      "        [ 19.4021,  -4.1562,  31.0513,  20.6109,   1.1996,  -1.4031, -12.0960,\n",
      "          -4.4750,  21.9932,   0.9350],\n",
      "        [ 15.7302,   3.7714,  22.8188,  21.8913,  -3.8164,   1.5984, -26.8963,\n",
      "         -14.9488,   9.9340,  -2.7790],\n",
      "        [ 15.6242,  -0.7475,  22.8013,  25.6078,  -5.8583,  18.7502, -14.0070,\n",
      "          -6.4686,  -0.1559,   8.7132],\n",
      "        [ 22.3784,   0.8125,  28.6075,  21.7665, -13.9779,   9.4023, -18.0833,\n",
      "          -1.7144,  10.5932,  -0.9017],\n",
      "        [ 25.6368,   4.0884,  10.3822,  20.4435,   1.2531,   3.3886, -22.7453,\n",
      "          -0.2553,  12.9838,   3.7725],\n",
      "        [ 24.4186,  -3.2322,  24.4011,  17.0464,  -3.9259,  13.0636, -21.6895,\n",
      "          -5.9300,  11.4188,  -0.0608],\n",
      "        [ 15.3722,   4.6643,  14.6553,  18.9886,   0.6824,  -4.2700, -15.1116,\n",
      "          -5.0860,   8.8011,   1.8401],\n",
      "        [ 13.5307,  -1.4518,  11.1101,  20.9971,  -2.0316,   9.9890, -22.9512,\n",
      "         -16.1665,   9.7100,   0.1116],\n",
      "        [ 14.1030,  -7.1793,  19.1934,  26.6564,   1.4158,  15.4412, -15.8028,\n",
      "          -7.4154,  25.2443,  -1.5260],\n",
      "        [ 16.7297,   1.9518,  17.8316,  25.3260,  -1.1163,   5.9162, -16.5585,\n",
      "         -16.7893,  11.9112,  -4.9283],\n",
      "        [ 20.5198,  14.2869,  13.2508,  10.2533,  -1.2059,   5.8273, -21.4114,\n",
      "           2.2857,   8.8277,  -2.3435],\n",
      "        [ 24.3034,   0.5446,  13.7991,  23.6075,  -8.8774,   5.2972, -21.7775,\n",
      "          -6.6681,  13.9429, -13.8883],\n",
      "        [ 20.0515,  -3.6003,  14.9372,  15.2505, -11.8922,  12.6626, -22.9411,\n",
      "         -14.9587,   7.6357,   3.6366],\n",
      "        [ 23.2680,  -0.3072,  12.1851,  16.6696,  -6.4709,   3.8543, -14.7472,\n",
      "          -3.1404,   9.0408,  -3.8438],\n",
      "        [ 16.6612,   1.6120,   5.2282,  15.4133,  -4.0136,  13.9824, -15.6358,\n",
      "          -9.2966,   9.1064,  -0.1918],\n",
      "        [ 16.4402,  -8.9099,  20.5822,  26.0656,   1.4086,  12.2734, -18.5530,\n",
      "           2.5560,  17.9205,   2.7199],\n",
      "        [  2.2572,  -6.9440,  10.8290,  25.0654,  -7.2843,  10.8279, -17.7481,\n",
      "          -6.6309,  20.1207,   0.5085],\n",
      "        [ 21.6544,  10.7699,  15.6272,  10.5133,   7.0636,   6.4874, -13.2092,\n",
      "         -12.6640,  15.4340,   0.2384],\n",
      "        [ 15.1151,   0.6741,  23.8026,  22.2679, -11.8524,   4.4264, -29.9034,\n",
      "          -8.3122,   2.7214,  -4.2635],\n",
      "        [ 12.0643,   5.5768,  18.4809,  25.5897,  -5.2804,  11.2989, -22.4302,\n",
      "          -2.9830,  12.5880,  -6.1059],\n",
      "        [  9.6146,   0.6008,  21.6583,   4.9176,  -2.3843,  -4.4666, -14.9849,\n",
      "          11.7693,  14.3373,  -8.4817],\n",
      "        [ 10.6668,   2.5530,  16.7263,  17.6308,  -3.0995,   8.6347, -14.8508,\n",
      "          -5.4874,  11.4074,  -0.7071],\n",
      "        [ 14.2335,  -9.9738,  22.8502,  18.0165,  -2.5787,  10.6823, -17.9177,\n",
      "          -0.1634,  18.9834,  -4.7769],\n",
      "        [ 16.4918,  -7.4089,  12.2581,  32.1804,  -5.3037,  16.8370, -16.2506,\n",
      "         -12.5370,  18.1829,  -3.8546],\n",
      "        [ 10.0712,   0.1087,   4.8931,  22.2052, -11.1044,   8.8766,  -9.7948,\n",
      "          -4.8200,  14.4511,   3.9592],\n",
      "        [ 28.4265,   4.0657,  25.6598,   6.2813,  -2.7674,   9.0552, -21.0765,\n",
      "           1.7556,  14.4867,  -5.3592],\n",
      "        [ 13.1047, -12.4127,  12.4847,  27.6727,   1.6727,  10.7999, -20.5553,\n",
      "          -9.5686,  19.0256,   5.4712],\n",
      "        [ 15.7164,   2.8070,  16.4096,  13.9933,   4.6110,  -3.5433, -17.8509,\n",
      "          -3.0356,  21.4666,  -5.1377],\n",
      "        [ 24.5444,   0.5636,  17.8936,  23.0240,   3.6203,   4.8921, -22.5358,\n",
      "          -5.9024,  18.8287,  -1.9487],\n",
      "        [ 24.9255,   7.8887,  15.8471,  14.1731,   8.3548,   4.9473, -17.6492,\n",
      "          -8.0506,  14.9116,   0.5714],\n",
      "        [ 16.7357,   2.2102,  25.1814,  16.3541,   2.3872,   9.3315, -16.5182,\n",
      "         -11.7251,  18.0463,  -4.3611],\n",
      "        [ 27.0014,  11.4409,   8.5025,  12.5879,  -1.6954,  -6.7308, -20.5995,\n",
      "          -3.0140,  10.6070,   7.6770],\n",
      "        [ 22.3946,   8.5597,  19.4804,  22.8197,  -3.7999,  -0.7068, -21.6646,\n",
      "         -13.9870,   1.9431,  -1.7036],\n",
      "        [ 10.3786,   1.0871,  22.4173,  18.4205,  -1.5449,   3.8186, -27.6859,\n",
      "          -6.5821,   2.7596,  -9.9292]])\n"
     ]
    }
   ],
   "source": [
    "## Your solution\n",
    "def activation(x):\n",
    "    return 1/(1 + torch.exp(-x))\n",
    "\n",
    "#converting the array\n",
    "inputs = images.view(images.shape[0], -1)\n",
    "\n",
    "w1 = torch.randn(784,256)\n",
    "b1 = torch.randn(256)\n",
    "\n",
    "w2 = torch.randn(256,10)\n",
    "b2 = torch.randn(10)\n",
    "\n",
    "h = activation(torch.mm(inputs, w1) + b1)\n",
    "\n",
    "# output of your network, should have shape (64,10)\n",
    "out = torch.mm(h, w2) + b2\n",
    "print(out)"
   ]
  },
  {
   "cell_type": "markdown",
   "metadata": {},
   "source": [
    "Now we have 10 outputs for our network. We want to pass in an image to our network and get out a probability distribution over the classes that tells us the likely class(es) the image belongs to. Something that looks like this:\n",
    "<img src='assets/image_distribution.png' width=500px>\n",
    "\n",
    "Here we see that the probability for each class is roughly the same. This is representing an untrained network, it hasn't seen any data yet so it just returns a uniform distribution with equal probabilities for each class.\n",
    "\n",
    "To calculate this probability distribution, we often use the [**softmax** function](https://en.wikipedia.org/wiki/Softmax_function). Mathematically this looks like\n",
    "\n",
    "$$\n",
    "\\Large \\sigma(x_i) = \\cfrac{e^{x_i}}{\\sum_k^K{e^{x_k}}}\n",
    "$$\n",
    "\n",
    "What this does is squish each input $x_i$ between 0 and 1 and normalizes the values to give you a proper probability distribution where the probabilites sum up to one.\n",
    "\n",
    "> **Exercise:** Implement a function `softmax` that performs the softmax calculation and returns probability distributions for each example in the batch. Note that you'll need to pay attention to the shapes when doing this. If you have a tensor `a` with shape `(64, 10)` and a tensor `b` with shape `(64,)`, doing `a/b` will give you an error because PyTorch will try to do the division across the columns (called broadcasting) but you'll get a size mismatch. The way to think about this is for each of the 64 examples, you only want to divide by one value, the sum in the denominator. So you need `b` to have a shape of `(64, 1)`. This way PyTorch will divide the 10 values in each row of `a` by the one value in each row of `b`. Pay attention to how you take the sum as well. You'll need to define the `dim` keyword in `torch.sum`. Setting `dim=0` takes the sum across the rows while `dim=1` takes the sum across the columns."
   ]
  },
  {
   "cell_type": "code",
   "execution_count": 24,
   "metadata": {},
   "outputs": [
    {
     "name": "stdout",
     "output_type": "stream",
     "text": [
      "torch.Size([64, 10])\n",
      "tensor([1.0000, 1.0000, 1.0000, 1.0000, 1.0000, 1.0000, 1.0000, 1.0000, 1.0000,\n",
      "        1.0000, 1.0000, 1.0000, 1.0000, 1.0000, 1.0000, 1.0000, 1.0000, 1.0000,\n",
      "        1.0000, 1.0000, 1.0000, 1.0000, 1.0000, 1.0000, 1.0000, 1.0000, 1.0000,\n",
      "        1.0000, 1.0000, 1.0000, 1.0000, 1.0000, 1.0000, 1.0000, 1.0000, 1.0000,\n",
      "        1.0000, 1.0000, 1.0000, 1.0000, 1.0000, 1.0000, 1.0000, 1.0000, 1.0000,\n",
      "        1.0000, 1.0000, 1.0000, 1.0000, 1.0000, 1.0000, 1.0000, 1.0000, 1.0000,\n",
      "        1.0000, 1.0000, 1.0000, 1.0000, 1.0000, 1.0000, 1.0000, 1.0000, 1.0000,\n",
      "        1.0000])\n"
     ]
    }
   ],
   "source": [
    "def softmax(x):\n",
    "    return torch.exp(x)/torch.sum(torch.exp(x), dim=1).view(-1, 1)\n",
    "\n",
    "# Here, out should be the output of the network in the previous excercise with shape (64,10)\n",
    "probabilities = softmax(out)\n",
    "\n",
    "# Does it have the right shape? Should be (64, 10)\n",
    "print(probabilities.shape)\n",
    "# Does it sum to 1?\n",
    "print(probabilities.sum(dim=1))"
   ]
  },
  {
   "cell_type": "markdown",
   "metadata": {},
   "source": [
    "## Building networks with PyTorch\n",
    "\n",
    "PyTorch provides a module `nn` that makes building networks much simpler. Here I'll show you how to build the same one as above with 784 inputs, 256 hidden units, 10 output units and a softmax output."
   ]
  },
  {
   "cell_type": "code",
   "execution_count": 25,
   "metadata": {},
   "outputs": [],
   "source": [
    "from torch import nn"
   ]
  },
  {
   "cell_type": "code",
   "execution_count": 26,
   "metadata": {},
   "outputs": [],
   "source": [
    "class Network(nn.Module):\n",
    "    def __init__(self):\n",
    "        super().__init__()\n",
    "        \n",
    "        # Inputs to hidden layer linear transformation\n",
    "        self.hidden = nn.Linear(784, 256)\n",
    "        # Output layer, 10 units - one for each digit\n",
    "        self.output = nn.Linear(256, 10)\n",
    "        \n",
    "        # Define sigmoid activation and softmax output \n",
    "        self.sigmoid = nn.Sigmoid()\n",
    "        self.softmax = nn.Softmax(dim=1)\n",
    "        \n",
    "    def forward(self, x):\n",
    "        # Pass the input tensor through each of our operations\n",
    "        x = self.hidden(x)\n",
    "        x = self.sigmoid(x)\n",
    "        x = self.output(x)\n",
    "        x = self.softmax(x)\n",
    "        \n",
    "        return x"
   ]
  },
  {
   "cell_type": "markdown",
   "metadata": {},
   "source": [
    "Let's go through this bit by bit.\n",
    "\n",
    "```python\n",
    "class Network(nn.Module):\n",
    "```\n",
    "\n",
    "Here we're inheriting from `nn.Module`. Combined with `super().__init__()` this creates a class that tracks the architecture and provides a lot of useful methods and attributes. It is mandatory to inherit from `nn.Module` when you're creating a class for your network. The name of the class itself can be anything.\n",
    "\n",
    "```python\n",
    "self.hidden = nn.Linear(784, 256)\n",
    "```\n",
    "\n",
    "This line creates a module for a linear transformation, $x\\mathbf{W} + b$, with 784 inputs and 256 outputs and assigns it to `self.hidden`. The module automatically creates the weight and bias tensors which we'll use in the `forward` method. You can access the weight and bias tensors once the network (`net`) is created with `net.hidden.weight` and `net.hidden.bias`.\n",
    "\n",
    "```python\n",
    "self.output = nn.Linear(256, 10)\n",
    "```\n",
    "\n",
    "Similarly, this creates another linear transformation with 256 inputs and 10 outputs.\n",
    "\n",
    "```python\n",
    "self.sigmoid = nn.Sigmoid()\n",
    "self.softmax = nn.Softmax(dim=1)\n",
    "```\n",
    "\n",
    "Here I defined operations for the sigmoid activation and softmax output. Setting `dim=1` in `nn.Softmax(dim=1)` calculates softmax across the columns.\n",
    "\n",
    "```python\n",
    "def forward(self, x):\n",
    "```\n",
    "\n",
    "PyTorch networks created with `nn.Module` must have a `forward` method defined. It takes in a tensor `x` and passes it through the operations you defined in the `__init__` method.\n",
    "\n",
    "```python\n",
    "x = self.hidden(x)\n",
    "x = self.sigmoid(x)\n",
    "x = self.output(x)\n",
    "x = self.softmax(x)\n",
    "```\n",
    "\n",
    "Here the input tensor `x` is passed through each operation and reassigned to `x`. We can see that the input tensor goes through the hidden layer, then a sigmoid function, then the output layer, and finally the softmax function. It doesn't matter what you name the variables here, as long as the inputs and outputs of the operations match the network architecture you want to build. The order in which you define things in the `__init__` method doesn't matter, but you'll need to sequence the operations correctly in the `forward` method.\n",
    "\n",
    "Now we can create a `Network` object."
   ]
  },
  {
   "cell_type": "code",
   "execution_count": 27,
   "metadata": {},
   "outputs": [
    {
     "data": {
      "text/plain": [
       "Network(\n",
       "  (hidden): Linear(in_features=784, out_features=256, bias=True)\n",
       "  (output): Linear(in_features=256, out_features=10, bias=True)\n",
       "  (sigmoid): Sigmoid()\n",
       "  (softmax): Softmax()\n",
       ")"
      ]
     },
     "execution_count": 27,
     "metadata": {},
     "output_type": "execute_result"
    }
   ],
   "source": [
    "# Create the network and look at it's text representation\n",
    "model = Network()\n",
    "model"
   ]
  },
  {
   "cell_type": "markdown",
   "metadata": {},
   "source": [
    "You can define the network somewhat more concisely and clearly using the `torch.nn.functional` module. This is the most common way you'll see networks defined as many operations are simple element-wise functions. We normally import this module as `F`, `import torch.nn.functional as F`."
   ]
  },
  {
   "cell_type": "code",
   "execution_count": 28,
   "metadata": {},
   "outputs": [],
   "source": [
    "import torch.nn.functional as F\n",
    "\n",
    "class Network(nn.Module):\n",
    "    def __init__(self):\n",
    "        super().__init__()\n",
    "        # Inputs to hidden layer linear transformation\n",
    "        self.hidden = nn.Linear(784, 256)\n",
    "        # Output layer, 10 units - one for each digit\n",
    "        self.output = nn.Linear(256, 10)\n",
    "        \n",
    "    def forward(self, x):\n",
    "        # Hidden layer with sigmoid activation\n",
    "        x = F.sigmoid(self.hidden(x))\n",
    "        # Output layer with softmax activation\n",
    "        x = F.softmax(self.output(x), dim=1)\n",
    "        \n",
    "        return x"
   ]
  },
  {
   "cell_type": "markdown",
   "metadata": {},
   "source": [
    "### Activation functions\n",
    "\n",
    "So far we've only been looking at the softmax activation, but in general any function can be used as an activation function. The only requirement is that for a network to approximate a non-linear function, the activation functions must be non-linear. Here are a few more examples of common activation functions: Tanh (hyperbolic tangent), and ReLU (rectified linear unit).\n",
    "\n",
    "<img src=\"assets/activation.png\" width=700px>\n",
    "\n",
    "In practice, the ReLU function is used almost exclusively as the activation function for hidden layers."
   ]
  },
  {
   "cell_type": "markdown",
   "metadata": {},
   "source": [
    "### Your Turn to Build a Network\n",
    "\n",
    "<img src=\"assets/mlp_mnist.png\" width=600px>\n",
    "\n",
    "> **Exercise:** Create a network with 784 input units, a hidden layer with 128 units and a ReLU activation, then a hidden layer with 64 units and a ReLU activation, and finally an output layer with a softmax activation as shown above. You can use a ReLU activation with the `nn.ReLU` module or `F.relu` function.\n",
    "\n",
    "It's good practice to name your layers by their type of network, for instance 'fc' to represent a fully-connected layer. As you code your solution, use `fc1`, `fc2`, and `fc3` as your layer names."
   ]
  },
  {
   "cell_type": "code",
   "execution_count": null,
   "metadata": {
    "collapsed": true,
    "scrolled": true
   },
   "outputs": [],
   "source": [
    "## Your solution here\n"
   ]
  },
  {
   "cell_type": "markdown",
   "metadata": {},
   "source": [
    "### Initializing weights and biases\n",
    "\n",
    "The weights and such are automatically initialized for you, but it's possible to customize how they are initialized. The weights and biases are tensors attached to the layer you defined, you can get them with `model.fc1.weight` for instance."
   ]
  },
  {
   "cell_type": "code",
   "execution_count": null,
   "metadata": {
    "collapsed": true
   },
   "outputs": [],
   "source": [
    "print(model.fc1.weight)\n",
    "print(model.fc1.bias)"
   ]
  },
  {
   "cell_type": "markdown",
   "metadata": {},
   "source": [
    "For custom initialization, we want to modify these tensors in place. These are actually autograd *Variables*, so we need to get back the actual tensors with `model.fc1.weight.data`. Once we have the tensors, we can fill them with zeros (for biases) or random normal values."
   ]
  },
  {
   "cell_type": "code",
   "execution_count": null,
   "metadata": {
    "collapsed": true
   },
   "outputs": [],
   "source": [
    "# Set biases to all zeros\n",
    "model.fc1.bias.data.fill_(0)"
   ]
  },
  {
   "cell_type": "code",
   "execution_count": null,
   "metadata": {
    "collapsed": true
   },
   "outputs": [],
   "source": [
    "# sample from random normal with standard dev = 0.01\n",
    "model.fc1.weight.data.normal_(std=0.01)"
   ]
  },
  {
   "cell_type": "markdown",
   "metadata": {},
   "source": [
    "### Forward pass\n",
    "\n",
    "Now that we have a network, let's see what happens when we pass in an image."
   ]
  },
  {
   "cell_type": "code",
   "execution_count": null,
   "metadata": {
    "collapsed": true
   },
   "outputs": [],
   "source": [
    "# Grab some data \n",
    "dataiter = iter(trainloader)\n",
    "images, labels = dataiter.next()\n",
    "\n",
    "# Resize images into a 1D vector, new shape is (batch size, color channels, image pixels) \n",
    "images.resize_(64, 1, 784)\n",
    "# or images.resize_(images.shape[0], 1, 784) to automatically get batch size\n",
    "\n",
    "# Forward pass through the network\n",
    "img_idx = 0\n",
    "ps = model.forward(images[img_idx,:])\n",
    "\n",
    "img = images[img_idx]\n",
    "helper.view_classify(img.view(1, 28, 28), ps)"
   ]
  },
  {
   "cell_type": "markdown",
   "metadata": {},
   "source": [
    "As you can see above, our network has basically no idea what this digit is. It's because we haven't trained it yet, all the weights are random!\n",
    "\n",
    "### Using `nn.Sequential`\n",
    "\n",
    "PyTorch provides a convenient way to build networks like this where a tensor is passed sequentially through operations, `nn.Sequential` ([documentation](https://pytorch.org/docs/master/nn.html#torch.nn.Sequential)). Using this to build the equivalent network:"
   ]
  },
  {
   "cell_type": "code",
   "execution_count": null,
   "metadata": {
    "collapsed": true
   },
   "outputs": [],
   "source": [
    "# Hyperparameters for our network\n",
    "input_size = 784\n",
    "hidden_sizes = [128, 64]\n",
    "output_size = 10\n",
    "\n",
    "# Build a feed-forward network\n",
    "model = nn.Sequential(nn.Linear(input_size, hidden_sizes[0]),\n",
    "                      nn.ReLU(),\n",
    "                      nn.Linear(hidden_sizes[0], hidden_sizes[1]),\n",
    "                      nn.ReLU(),\n",
    "                      nn.Linear(hidden_sizes[1], output_size),\n",
    "                      nn.Softmax(dim=1))\n",
    "print(model)\n",
    "\n",
    "# Forward pass through the network and display output\n",
    "images, labels = next(iter(trainloader))\n",
    "images.resize_(images.shape[0], 1, 784)\n",
    "ps = model.forward(images[0,:])\n",
    "helper.view_classify(images[0].view(1, 28, 28), ps)"
   ]
  },
  {
   "cell_type": "markdown",
   "metadata": {},
   "source": [
    "Here our model is the same as before: 784 input units, a hidden layer with 128 units, ReLU activation, 64 unit hidden layer, another ReLU, then the output layer with 10 units, and the softmax output.\n",
    "\n",
    "The operations are available by passing in the appropriate index. For example, if you want to get first Linear operation and look at the weights, you'd use `model[0]`."
   ]
  },
  {
   "cell_type": "code",
   "execution_count": null,
   "metadata": {
    "collapsed": true
   },
   "outputs": [],
   "source": [
    "print(model[0])\n",
    "model[0].weight"
   ]
  },
  {
   "cell_type": "markdown",
   "metadata": {},
   "source": [
    "You can also pass in an `OrderedDict` to name the individual layers and operations, instead of using incremental integers. Note that dictionary keys must be unique, so _each operation must have a different name_."
   ]
  },
  {
   "cell_type": "code",
   "execution_count": null,
   "metadata": {
    "collapsed": true
   },
   "outputs": [],
   "source": [
    "from collections import OrderedDict\n",
    "model = nn.Sequential(OrderedDict([\n",
    "                      ('fc1', nn.Linear(input_size, hidden_sizes[0])),\n",
    "                      ('relu1', nn.ReLU()),\n",
    "                      ('fc2', nn.Linear(hidden_sizes[0], hidden_sizes[1])),\n",
    "                      ('relu2', nn.ReLU()),\n",
    "                      ('output', nn.Linear(hidden_sizes[1], output_size)),\n",
    "                      ('softmax', nn.Softmax(dim=1))]))\n",
    "model"
   ]
  },
  {
   "cell_type": "markdown",
   "metadata": {},
   "source": [
    "Now you can access layers either by integer or the name"
   ]
  },
  {
   "cell_type": "code",
   "execution_count": null,
   "metadata": {
    "collapsed": true
   },
   "outputs": [],
   "source": [
    "print(model[0])\n",
    "print(model.fc1)"
   ]
  },
  {
   "cell_type": "markdown",
   "metadata": {},
   "source": [
    "In the next notebook, we'll see how we can train a neural network to accuractly predict the numbers appearing in the MNIST images."
   ]
  }
 ],
 "metadata": {
  "kernelspec": {
   "display_name": "Python 3",
   "language": "python",
   "name": "python3"
  },
  "language_info": {
   "codemirror_mode": {
    "name": "ipython",
    "version": 3
   },
   "file_extension": ".py",
   "mimetype": "text/x-python",
   "name": "python",
   "nbconvert_exporter": "python",
   "pygments_lexer": "ipython3",
   "version": "3.6.6"
  }
 },
 "nbformat": 4,
 "nbformat_minor": 2
}
